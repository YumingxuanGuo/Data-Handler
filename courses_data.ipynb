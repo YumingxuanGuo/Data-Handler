{
  "nbformat": 4,
  "nbformat_minor": 0,
  "metadata": {
    "colab": {
      "name": "Untitled0.ipynb",
      "provenance": [],
      "authorship_tag": "ABX9TyOGfHtqfgjEEaCbadXnPUaF",
      "include_colab_link": true
    },
    "kernelspec": {
      "name": "python3",
      "display_name": "Python 3"
    },
    "language_info": {
      "name": "python"
    }
  },
  "cells": [
    {
      "cell_type": "markdown",
      "metadata": {
        "id": "view-in-github",
        "colab_type": "text"
      },
      "source": [
        "<a href=\"https://colab.research.google.com/github/YumingxuanGuo/Data-Handler/blob/main/courses_data.ipynb\" target=\"_parent\"><img src=\"https://colab.research.google.com/assets/colab-badge.svg\" alt=\"Open In Colab\"/></a>"
      ]
    },
    {
      "cell_type": "code",
      "execution_count": 22,
      "metadata": {
        "id": "72AjDOtyq0g1"
      },
      "outputs": [],
      "source": [
        "import requests\n",
        "from bs4 import BeautifulSoup as soup\n",
        "import pandas as pd\n",
        "\n",
        "year_term = \"2022/spring\"\n",
        "school_url = \"https://courses.illinois.edu/schedule/\" + year_term\n",
        "\n",
        "response = requests.get(school_url)\n",
        "\n",
        "department_name = []\n",
        "\n",
        "page = soup(response.text, 'html.parser')\n",
        "\n",
        "for link in page.find_all('a'):\n",
        "  candidates = str(link.get('href'))\n",
        "  if (candidates.find('/schedule/2022/spring/') != -1):\n",
        "    department_name.append(candidates[22:])"
      ]
    },
    {
      "cell_type": "code",
      "source": [
        "import multiprocessing\n",
        "from multiprocessing import Pool\n",
        "import sys\n",
        "\n",
        "MAX_WORKER_NUM = multiprocessing.cpu_count()\n",
        "\n",
        "def job(diction, url, dep):\n",
        "  response_coures_list = requests.get(url)\n",
        "  page_courses_list = soup(response_coures_list.text, 'html.parser')\n",
        "  courses_name_nums = dict()\n",
        "  for st_a in page_courses_list.find_all('a'):\n",
        "    nums_pre = str(st_a.get('href'))\n",
        "    if ((year_term + '/' + dep) in nums_pre and 'pdf' not in nums_pre):\n",
        "      num = str(st_a.get('href'))[-3:]\n",
        "      name = st_a.string\n",
        "      courses_name_nums[num] = name\n",
        "  diction[dep] = courses_name_nums\n",
        "\n",
        "url_list = []\n",
        "manager = multiprocessing.Manager()\n",
        "all_data = manager.dict()\n",
        "\n",
        "for dep in department_name:\n",
        "  dep_url = school_url + '/' + dep\n",
        "  url_list.append(dep_url)\n",
        "\n",
        "p = Pool(15)\n",
        "sys.setrecursionlimit(2500000)\n",
        "for i in range(len(url_list)):\n",
        "  p.apply_async(job, args = (all_data, url_list[i], department_name[i]))\n",
        "\n",
        "p.close()\n",
        "p.join()\n",
        "print(all_data.keys())"
      ],
      "metadata": {
        "colab": {
          "base_uri": "https://localhost:8080/"
        },
        "id": "zVW5pb6JvqW9",
        "outputId": "261e4fae-bcc2-4e75-bf06-25e7e58ea722"
      },
      "execution_count": 23,
      "outputs": [
        {
          "output_type": "stream",
          "name": "stdout",
          "text": [
            "['AAS', 'AGCM', 'AFST', 'AFAS', 'AGED', 'ABE', 'ADV', 'AFRO', 'AIS', 'AE', 'ALEC', 'ACCY', 'AHS', 'ACE', 'ACES', 'ANSC', 'ANTH', 'ARAB', 'ARCH', 'ART', 'ARTD', 'ARTE', 'ARTJ', 'ASST', 'ARTS', 'ARTF', 'ARTH', 'ATMS', 'ASRM', 'ASTR', 'BCOG', 'BCS', 'BADM', 'BDI', 'BIOC', 'BIOE', 'CDB', 'CHBE', 'BIOP', 'BUS', 'BIOL', 'CB', 'BTW', 'BSE', 'CEE', 'CHIN', 'CHEM', 'CHP', 'CHLH', 'CI', 'CIC', 'CLCV', 'CSE', 'CMN', 'CW', 'CPSC', 'DTX', 'CZCH', 'CWL', 'CS', 'CLE', 'DANC', 'EALC', 'EDPR', 'ECON', 'ECE', 'EDUC', 'EIL', 'ENG', 'ENSU', 'ERAM', 'ESE', 'ENT', 'ENVS', 'EPOL', 'EPSY', 'FAA', 'ESL', 'EURO', 'ENGL', 'FLTE', 'FR', 'FIN', 'FSHN', 'GC', 'GSD', 'GS', 'GMC', 'GRK', 'GRKM', 'GLBL', 'HEBR', 'GEOG', 'GER', 'GWS', 'GEOL', 'HDFS', 'HIST', 'HORT', 'HNDI', 'HT', 'HUM', 'IB', 'IE', 'JAPN', 'JS', 'IHLT', 'KOR', 'INFO', 'ITAL', 'KIN', 'JOUR', 'IS', 'LAS', 'LAST', 'LAT', 'LA', 'LCTL', 'LEAD', 'MFST', 'MDVL', 'LER', 'MDIA', 'MBA', 'MICR', 'LING', 'MCB', 'MACS', 'LLS', 'LAW', 'MATH', 'ME', 'MILS', 'MIP', 'MUSE', 'MSE', 'NE', 'NEUR', 'MUS', 'PBIO', 'PERS', 'NS', 'NPRE', 'MUSC', 'NUTR', 'PATH', 'NRES', 'PHIL', 'PLPA', 'PHYS', 'POL', 'PSM', 'PORT', 'PS', 'QUEC', 'PSYC', 'REES', 'REHB', 'RMLG', 'RSOC', 'RHET', 'SBC', 'SCAN', 'SAME', 'RUSS', 'REL', 'SE', 'SLAV', 'RST', 'SHS', 'SOC', 'SOCW', 'SPAN', 'SWAH', 'SPED', 'TAM', 'TE', 'STAT', 'TMGT', 'TURK', 'UKR', 'TRST', 'THEA', 'TSM', 'UP', 'VCM', 'VM', 'WGGP', 'WLOF', 'WRIT', 'YDSH']\n"
          ]
        }
      ]
    },
    {
      "cell_type": "code",
      "source": [
        "df = pd.DataFrame()\n",
        "for i in all_data.items():\n",
        "  temp_list = []\n",
        "  for j in i[1].keys():\n",
        "    temp_list.append(j + \" \" + i[1][j])\n",
        "  temp = pd.DataFrame({i[0]: temp_list})\n",
        "  df = pd.concat([df, temp], axis = 1)\n",
        "\n",
        "df.to_csv(\"courses_num_name.csv\")"
      ],
      "metadata": {
        "id": "Lf94jIq8yKDx"
      },
      "execution_count": 24,
      "outputs": []
    },
    {
      "cell_type": "code",
      "source": [
        "import re\n",
        "import json\n",
        "import os\n",
        "\n",
        "if not(os.path.exists('course_info')):\n",
        "  os.mkdir('course_info')\n",
        "\n",
        "def job_2(department):\n",
        "  department_dataframe = pd.dataFrame()\n",
        "  for course_number in all_data[department]:\n",
        "    course_url = school_url + '/' + department + '/' + course_number\n",
        "    response = requests.get(course_url)\n",
        "    text = response.text\n",
        "    page = soup(text, 'html.parser')\n",
        "    pattern = re.compile(r\"var sectionDataObj = (.*?);$\", re.MULTILINE | re.DOTALL)\n",
        "    script = page.find(\"script\", text = pattern)\n",
        "    info = pattern.search(script.prettify()).group(1)\n",
        "    data = json.loads(info)\n",
        "    crn = []\n",
        "    type_ = []\n",
        "    section = []\n",
        "    time = []\n",
        "    day = []\n",
        "    location = []\n",
        "    instructor = []\n",
        "    for course in data:\n",
        "      crn.append(course[\"crn\"].strip())\n",
        "      type_.append(course[\"type\"].split(\"meeting\\\">\")[1].split(\"</div>\")[0].strip())\n",
        "      section.append(course[\"section\"].split(\"meeting\\\">\")[1].split(\"</div>\")[0].strip())\n",
        "      time.append(course[\"time\"].split(\"meeting\\\">\")[1].split(\"</div>\")[0].strip())\n",
        "      day.append(course[\"day\"].split(\"meeting\\\">\")[1].split(\"</div>\")[0].strip())\n",
        "      location.append(course[\"location\"].split(\"meeting\\\">\")[1].split(\"</div>\")[0].strip())\n",
        "      instr_info = course[\"instructor\"].split(\"meeting\\\">\")[1].split(\"</div>\")[0].strip()\n",
        "      if (instr_info):\n",
        "        instr_info = instr_info[:-6].replace(\"<br />\", \" & \", 10)\n",
        "      instructor.append(instr_info)\n",
        "    course_data = pd.DataFrame({\"Course\":department+course_number, \"Name\":all_data[department][course_number].strip(), \"CRN\":crn, \"Type\":type_, \"Section\":section, \"Time\":time, \"Day\":day, \"Location\":location, \"Instructor\":instructor})\n",
        "    department_dataframe = pd.concat([department_dataframe, course_data], ignore_index = True)\n",
        "  department_dataframe.to_csv(\"course_info/\" + department + \".csv\")\n",
        "\n",
        "p = Pool(16)\n",
        "sys.setrecursionlimit(2500000)\n",
        "for i in range(len(department_name)):\n",
        "  p.apply_async(job_2, (department_name[i],))\n",
        "p.close()\n",
        "p.join()\n",
        "\n",
        "!zip -r /content/course_info.zip /content/course_info"
      ],
      "metadata": {
        "id": "Glm1eZkCzHC8"
      },
      "execution_count": null,
      "outputs": []
    }
  ]
}